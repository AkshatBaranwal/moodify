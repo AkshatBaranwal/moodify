{
 "cells": [
  {
   "cell_type": "code",
   "execution_count": null,
   "metadata": {
    "_cell_guid": "b1076dfc-b9ad-4769-8c92-a6c4dae69d19",
    "_uuid": "8f2839f25d086af736a60e9eeb907d3b93b6e0e5",
    "execution": {
     "iopub.execute_input": "2021-11-19T09:17:23.356858Z",
     "iopub.status.busy": "2021-11-19T09:17:23.356585Z",
     "iopub.status.idle": "2021-11-19T09:17:23.891529Z",
     "shell.execute_reply": "2021-11-19T09:17:23.890788Z",
     "shell.execute_reply.started": "2021-11-19T09:17:23.356829Z"
    }
   },
   "outputs": [],
   "source": [
    "# This Python 3 environment comes with many helpful analytics libraries installed\n",
    "# It is defined by the kaggle/python docker image: https://github.com/kaggle/docker-python\n",
    "# For example, here's several helpful packages to load in \n",
    "\n",
    "import numpy as np # linear algebra\n",
    "import pandas as pd # data processing, CSV file I/O (e.g. pd.read_csv)\n",
    "\n",
    "# Input data files are available in the \"../input/\" directory.\n",
    "# For example, running this (by clicking run or pressing Shift+Enter) will list all files under the input directory\n",
    "\n",
    "import os\n",
    "for dirname, _, filenames in os.walk('/kaggle/input'):\n",
    "    for filename in filenames:\n",
    "        print(os.path.join(dirname, filename))\n",
    "\n",
    "# Any results you write to the current directory are saved as output."
   ]
  },
  {
   "cell_type": "code",
   "execution_count": null,
   "metadata": {
    "_cell_guid": "79c7e3d0-c299-4dcb-8224-4455121ee9b0",
    "_uuid": "d629ff2d2480ee46fbb7e2d37f6b5fab8052498a",
    "execution": {
     "iopub.execute_input": "2021-11-19T09:17:23.894159Z",
     "iopub.status.busy": "2021-11-19T09:17:23.89379Z",
     "iopub.status.idle": "2021-11-19T09:17:30.190124Z",
     "shell.execute_reply": "2021-11-19T09:17:30.189341Z",
     "shell.execute_reply.started": "2021-11-19T09:17:23.894119Z"
    }
   },
   "outputs": [],
   "source": [
    "import math\n",
    "import numpy as np\n",
    "import pandas as pd\n",
    "\n",
    "import scikitplot\n",
    "import seaborn as sns\n",
    "from matplotlib import pyplot\n",
    "\n",
    "from sklearn.model_selection import train_test_split\n",
    "from sklearn.preprocessing import LabelEncoder\n",
    "from sklearn.metrics import classification_report\n",
    "\n",
    "import tensorflow as tf\n",
    "from tensorflow.keras import optimizers\n",
    "from tensorflow.keras.datasets import mnist\n",
    "from tensorflow.keras.models import Sequential\n",
    "from tensorflow.keras.layers import Flatten, Dense, Conv2D, MaxPooling2D\n",
    "from tensorflow.keras.layers import Dropout, BatchNormalization, LeakyReLU, Activation\n",
    "from tensorflow.keras.callbacks import Callback, EarlyStopping, ReduceLROnPlateau\n",
    "from tensorflow.keras.preprocessing.image import ImageDataGenerator\n",
    "import tensorboard\n",
    "\n",
    "from keras.utils import np_utils\n",
    "\n",
    "\n",
    "%load_ext tensorboard"
   ]
  },
  {
   "cell_type": "code",
   "execution_count": null,
   "metadata": {
    "execution": {
     "iopub.execute_input": "2021-11-19T09:17:30.191953Z",
     "iopub.status.busy": "2021-11-19T09:17:30.191474Z",
     "iopub.status.idle": "2021-11-19T09:17:34.870649Z",
     "shell.execute_reply": "2021-11-19T09:17:34.870049Z",
     "shell.execute_reply.started": "2021-11-19T09:17:30.191916Z"
    }
   },
   "outputs": [],
   "source": [
    "df = pd.read_csv('../input/facial-expression-recognitionferchallenge/fer2013/fer2013/fer2013.csv')\n",
    "print(df.shape)\n",
    "df.head()"
   ]
  },
  {
   "cell_type": "code",
   "execution_count": null,
   "metadata": {
    "execution": {
     "iopub.execute_input": "2021-11-19T09:17:34.873754Z",
     "iopub.status.busy": "2021-11-19T09:17:34.873549Z",
     "iopub.status.idle": "2021-11-19T09:17:34.884657Z",
     "shell.execute_reply": "2021-11-19T09:17:34.883967Z",
     "shell.execute_reply.started": "2021-11-19T09:17:34.87373Z"
    }
   },
   "outputs": [],
   "source": [
    "df.emotion.unique()"
   ]
  },
  {
   "cell_type": "code",
   "execution_count": null,
   "metadata": {
    "execution": {
     "iopub.execute_input": "2021-11-19T09:17:34.889184Z",
     "iopub.status.busy": "2021-11-19T09:17:34.888985Z",
     "iopub.status.idle": "2021-11-19T09:17:34.895539Z",
     "shell.execute_reply": "2021-11-19T09:17:34.894858Z",
     "shell.execute_reply.started": "2021-11-19T09:17:34.889162Z"
    }
   },
   "outputs": [],
   "source": [
    "emotion_label_to_text = {0:'anger', 1:'disgust', 2:'fear', 3:'happiness', 4: 'sadness', 5: 'surprise', 6: 'neutral'}"
   ]
  },
  {
   "cell_type": "code",
   "execution_count": null,
   "metadata": {
    "execution": {
     "iopub.execute_input": "2021-11-19T09:17:34.900062Z",
     "iopub.status.busy": "2021-11-19T09:17:34.899831Z",
     "iopub.status.idle": "2021-11-19T09:17:34.908465Z",
     "shell.execute_reply": "2021-11-19T09:17:34.907775Z",
     "shell.execute_reply.started": "2021-11-19T09:17:34.90004Z"
    }
   },
   "outputs": [],
   "source": [
    "df.emotion.value_counts()"
   ]
  },
  {
   "cell_type": "code",
   "execution_count": null,
   "metadata": {
    "execution": {
     "iopub.execute_input": "2021-11-19T09:17:34.911657Z",
     "iopub.status.busy": "2021-11-19T09:17:34.911104Z",
     "iopub.status.idle": "2021-11-19T09:17:35.051615Z",
     "shell.execute_reply": "2021-11-19T09:17:35.050991Z",
     "shell.execute_reply.started": "2021-11-19T09:17:34.911623Z"
    }
   },
   "outputs": [],
   "source": [
    "sns.countplot(df.emotion)\n",
    "pyplot.show()"
   ]
  },
  {
   "cell_type": "markdown",
   "metadata": {},
   "source": [
    "`So majority classes belongs to 3:Happy, 4:Sad and 6:Neutral nd we are also intersted in these three classes only.`"
   ]
  },
  {
   "cell_type": "code",
   "execution_count": null,
   "metadata": {
    "execution": {
     "iopub.execute_input": "2021-11-19T09:17:35.053243Z",
     "iopub.status.busy": "2021-11-19T09:17:35.052991Z",
     "iopub.status.idle": "2021-11-19T09:17:35.059593Z",
     "shell.execute_reply": "2021-11-19T09:17:35.058857Z",
     "shell.execute_reply.started": "2021-11-19T09:17:35.05321Z"
    }
   },
   "outputs": [],
   "source": [
    "math.sqrt(len(df.pixels[0].split(' ')))"
   ]
  },
  {
   "cell_type": "code",
   "execution_count": null,
   "metadata": {
    "execution": {
     "iopub.execute_input": "2021-11-19T09:17:35.061489Z",
     "iopub.status.busy": "2021-11-19T09:17:35.060999Z",
     "iopub.status.idle": "2021-11-19T09:17:43.092557Z",
     "shell.execute_reply": "2021-11-19T09:17:43.091809Z",
     "shell.execute_reply.started": "2021-11-19T09:17:35.061452Z"
    }
   },
   "outputs": [],
   "source": [
    "fig = pyplot.figure(1, (14, 14))\n",
    "k = 0\n",
    "for label in sorted(df.emotion.unique()):\n",
    "    for j in range(7):\n",
    "        px = df[df.emotion==label].pixels.iloc[k]\n",
    "        px = np.array(px.split(' ')).reshape(48, 48).astype('float32')\n",
    "\n",
    "        k += 1\n",
    "        ax = pyplot.subplot(7, 7, k)\n",
    "        ax.imshow(px, cmap='gray')\n",
    "        ax.set_xticks([])\n",
    "        ax.set_yticks([])\n",
    "        ax.set_title(emotion_label_to_text[label])\n",
    "        pyplot.tight_layout()"
   ]
  },
  {
   "cell_type": "code",
   "execution_count": null,
   "metadata": {
    "execution": {
     "iopub.execute_input": "2021-11-19T09:17:43.093786Z",
     "iopub.status.busy": "2021-11-19T09:17:43.093557Z",
     "iopub.status.idle": "2021-11-19T09:17:43.098304Z",
     "shell.execute_reply": "2021-11-19T09:17:43.097519Z",
     "shell.execute_reply.started": "2021-11-19T09:17:43.093757Z"
    }
   },
   "outputs": [],
   "source": [
    "INTERESTED_LABELS = [0, 1, 2, 3, 4, 5, 6]"
   ]
  },
  {
   "cell_type": "code",
   "execution_count": null,
   "metadata": {
    "execution": {
     "iopub.execute_input": "2021-11-19T09:17:43.099795Z",
     "iopub.status.busy": "2021-11-19T09:17:43.09942Z",
     "iopub.status.idle": "2021-11-19T09:17:43.107963Z",
     "shell.execute_reply": "2021-11-19T09:17:43.107297Z",
     "shell.execute_reply.started": "2021-11-19T09:17:43.099753Z"
    }
   },
   "outputs": [],
   "source": [
    "# df = df[df.emotion.isin(INTERESTED_LABELS)]\n",
    "# df.shape"
   ]
  },
  {
   "cell_type": "markdown",
   "metadata": {},
   "source": [
    "`Now I will make the data compatible for neural networks.`"
   ]
  },
  {
   "cell_type": "code",
   "execution_count": null,
   "metadata": {
    "execution": {
     "iopub.execute_input": "2021-11-19T09:17:43.10942Z",
     "iopub.status.busy": "2021-11-19T09:17:43.109054Z",
     "iopub.status.idle": "2021-11-19T09:18:56.590619Z",
     "shell.execute_reply": "2021-11-19T09:18:56.589787Z",
     "shell.execute_reply.started": "2021-11-19T09:17:43.109388Z"
    }
   },
   "outputs": [],
   "source": [
    "img_array = df.pixels.apply(lambda x: np.array(x.split(' ')).reshape(48, 48, 1).astype('float32'))\n",
    "img_array = np.stack(img_array, axis=0)"
   ]
  },
  {
   "cell_type": "code",
   "execution_count": null,
   "metadata": {
    "execution": {
     "iopub.execute_input": "2021-11-19T09:18:56.592321Z",
     "iopub.status.busy": "2021-11-19T09:18:56.59205Z",
     "iopub.status.idle": "2021-11-19T09:18:56.597711Z",
     "shell.execute_reply": "2021-11-19T09:18:56.59701Z",
     "shell.execute_reply.started": "2021-11-19T09:18:56.59229Z"
    }
   },
   "outputs": [],
   "source": [
    "img_array.shape"
   ]
  },
  {
   "cell_type": "code",
   "execution_count": null,
   "metadata": {
    "execution": {
     "iopub.execute_input": "2021-11-19T09:18:56.599671Z",
     "iopub.status.busy": "2021-11-19T09:18:56.599174Z",
     "iopub.status.idle": "2021-11-19T09:18:56.614148Z",
     "shell.execute_reply": "2021-11-19T09:18:56.613133Z",
     "shell.execute_reply.started": "2021-11-19T09:18:56.599635Z"
    }
   },
   "outputs": [],
   "source": [
    "le = LabelEncoder()\n",
    "img_labels = le.fit_transform(df.emotion)\n",
    "img_labels = np_utils.to_categorical(img_labels)\n",
    "img_labels.shape"
   ]
  },
  {
   "cell_type": "code",
   "execution_count": null,
   "metadata": {
    "execution": {
     "iopub.execute_input": "2021-11-19T09:18:56.6158Z",
     "iopub.status.busy": "2021-11-19T09:18:56.615404Z",
     "iopub.status.idle": "2021-11-19T09:18:56.621705Z",
     "shell.execute_reply": "2021-11-19T09:18:56.620927Z",
     "shell.execute_reply.started": "2021-11-19T09:18:56.615764Z"
    }
   },
   "outputs": [],
   "source": [
    "le_name_mapping = dict(zip(le.classes_, le.transform(le.classes_)))\n",
    "print(le_name_mapping)"
   ]
  },
  {
   "cell_type": "markdown",
   "metadata": {},
   "source": [
    "`Splitting the data into training and validation set.`"
   ]
  },
  {
   "cell_type": "code",
   "execution_count": null,
   "metadata": {
    "execution": {
     "iopub.execute_input": "2021-11-19T09:18:56.623931Z",
     "iopub.status.busy": "2021-11-19T09:18:56.62325Z",
     "iopub.status.idle": "2021-11-19T09:18:57.090712Z",
     "shell.execute_reply": "2021-11-19T09:18:57.089967Z",
     "shell.execute_reply.started": "2021-11-19T09:18:56.62389Z"
    }
   },
   "outputs": [],
   "source": [
    "X_train, X_valid, y_train, y_valid = train_test_split(img_array, img_labels,\n",
    "                                                    shuffle=True, stratify=img_labels,\n",
    "                                                    test_size=0.1, random_state=42)\n",
    "X_train.shape, X_valid.shape, y_train.shape, y_valid.shape"
   ]
  },
  {
   "cell_type": "code",
   "execution_count": null,
   "metadata": {
    "execution": {
     "iopub.execute_input": "2021-11-19T09:18:57.092177Z",
     "iopub.status.busy": "2021-11-19T09:18:57.091816Z",
     "iopub.status.idle": "2021-11-19T09:18:57.098295Z",
     "shell.execute_reply": "2021-11-19T09:18:57.097484Z",
     "shell.execute_reply.started": "2021-11-19T09:18:57.092139Z"
    }
   },
   "outputs": [],
   "source": [
    "del df\n",
    "del img_array\n",
    "del img_labels"
   ]
  },
  {
   "cell_type": "code",
   "execution_count": null,
   "metadata": {
    "execution": {
     "iopub.execute_input": "2021-11-19T09:18:57.100411Z",
     "iopub.status.busy": "2021-11-19T09:18:57.099864Z",
     "iopub.status.idle": "2021-11-19T09:18:57.106957Z",
     "shell.execute_reply": "2021-11-19T09:18:57.10627Z",
     "shell.execute_reply.started": "2021-11-19T09:18:57.100367Z"
    }
   },
   "outputs": [],
   "source": [
    "img_width = X_train.shape[1]\n",
    "img_height = X_train.shape[2]\n",
    "img_depth = X_train.shape[3]\n",
    "num_classes = y_train.shape[1]"
   ]
  },
  {
   "cell_type": "code",
   "execution_count": null,
   "metadata": {
    "execution": {
     "iopub.execute_input": "2021-11-19T09:18:57.109028Z",
     "iopub.status.busy": "2021-11-19T09:18:57.108514Z",
     "iopub.status.idle": "2021-11-19T09:18:57.209106Z",
     "shell.execute_reply": "2021-11-19T09:18:57.208408Z",
     "shell.execute_reply.started": "2021-11-19T09:18:57.108991Z"
    }
   },
   "outputs": [],
   "source": [
    "# Normalizing results, as neural networks are very sensitive to unnormalized data.\n",
    "X_train = X_train / 255.\n",
    "X_valid = X_valid / 255."
   ]
  },
  {
   "cell_type": "code",
   "execution_count": null,
   "metadata": {
    "execution": {
     "iopub.execute_input": "2021-11-19T09:18:57.210912Z",
     "iopub.status.busy": "2021-11-19T09:18:57.210616Z",
     "iopub.status.idle": "2021-11-19T09:18:57.230586Z",
     "shell.execute_reply": "2021-11-19T09:18:57.229831Z",
     "shell.execute_reply.started": "2021-11-19T09:18:57.210863Z"
    }
   },
   "outputs": [],
   "source": [
    "def build_net(optim):\n",
    "    \"\"\"\n",
    "    This is a Deep Convolutional Neural Network (DCNN). For generalization purpose I used dropouts in regular intervals.\n",
    "    I used `ELU` as the activation because it avoids dying relu problem but also performed well as compared to LeakyRelu\n",
    "    atleast in this case. `he_normal` kernel initializer is used as it suits ELU. BatchNormalization is also used for better\n",
    "    results.\n",
    "    \"\"\"\n",
    "    net = Sequential(name='DCNN')\n",
    "\n",
    "    net.add(\n",
    "        Conv2D(\n",
    "            filters=64,\n",
    "            kernel_size=(5,5),\n",
    "            input_shape=(img_width, img_height, img_depth),\n",
    "            activation='elu',\n",
    "            padding='same',\n",
    "            kernel_initializer='he_normal',\n",
    "            name='conv2d_1'\n",
    "        )\n",
    "    )\n",
    "    net.add(BatchNormalization(name='batchnorm_1'))\n",
    "    net.add(\n",
    "        Conv2D(\n",
    "            filters=64,\n",
    "            kernel_size=(5,5),\n",
    "            activation='elu',\n",
    "            padding='same',\n",
    "            kernel_initializer='he_normal',\n",
    "            name='conv2d_2'\n",
    "        )\n",
    "    )\n",
    "    net.add(BatchNormalization(name='batchnorm_2'))\n",
    "    \n",
    "    net.add(MaxPooling2D(pool_size=(2,2), name='maxpool2d_1'))\n",
    "    net.add(Dropout(0.4, name='dropout_1'))\n",
    "\n",
    "    net.add(\n",
    "        Conv2D(\n",
    "            filters=128,\n",
    "            kernel_size=(3,3),\n",
    "            activation='elu',\n",
    "            padding='same',\n",
    "            kernel_initializer='he_normal',\n",
    "            name='conv2d_3'\n",
    "        )\n",
    "    )\n",
    "    net.add(BatchNormalization(name='batchnorm_3'))\n",
    "    net.add(\n",
    "        Conv2D(\n",
    "            filters=128,\n",
    "            kernel_size=(3,3),\n",
    "            activation='elu',\n",
    "            padding='same',\n",
    "            kernel_initializer='he_normal',\n",
    "            name='conv2d_4'\n",
    "        )\n",
    "    )\n",
    "    net.add(BatchNormalization(name='batchnorm_4'))\n",
    "    \n",
    "    net.add(MaxPooling2D(pool_size=(2,2), name='maxpool2d_2'))\n",
    "    net.add(Dropout(0.4, name='dropout_2'))\n",
    "\n",
    "    net.add(\n",
    "        Conv2D(\n",
    "            filters=256,\n",
    "            kernel_size=(3,3),\n",
    "            activation='elu',\n",
    "            padding='same',\n",
    "            kernel_initializer='he_normal',\n",
    "            name='conv2d_5'\n",
    "        )\n",
    "    )\n",
    "    net.add(BatchNormalization(name='batchnorm_5'))\n",
    "    net.add(\n",
    "        Conv2D(\n",
    "            filters=256,\n",
    "            kernel_size=(3,3),\n",
    "            activation='elu',\n",
    "            padding='same',\n",
    "            kernel_initializer='he_normal',\n",
    "            name='conv2d_6'\n",
    "        )\n",
    "    )\n",
    "    net.add(BatchNormalization(name='batchnorm_6'))\n",
    "    \n",
    "    net.add(MaxPooling2D(pool_size=(2,2), name='maxpool2d_3'))\n",
    "    net.add(Dropout(0.5, name='dropout_3'))\n",
    "\n",
    "    net.add(Flatten(name='flatten'))\n",
    "        \n",
    "    net.add(\n",
    "        Dense(\n",
    "            128,\n",
    "            activation='elu',\n",
    "            kernel_initializer='he_normal',\n",
    "            name='dense_1'\n",
    "        )\n",
    "    )\n",
    "    net.add(BatchNormalization(name='batchnorm_7'))\n",
    "    \n",
    "    net.add(Dropout(0.6, name='dropout_4'))\n",
    "    \n",
    "    net.add(\n",
    "        Dense(\n",
    "            num_classes,\n",
    "            activation='softmax',\n",
    "            name='out_layer'\n",
    "        )\n",
    "    )\n",
    "    \n",
    "    net.compile(\n",
    "        loss='categorical_crossentropy',\n",
    "        optimizer=optim,\n",
    "        metrics=['accuracy']\n",
    "    )\n",
    "    \n",
    "    net.summary()\n",
    "    \n",
    "    return net"
   ]
  },
  {
   "cell_type": "code",
   "execution_count": null,
   "metadata": {
    "execution": {
     "iopub.execute_input": "2021-11-19T09:18:57.232181Z",
     "iopub.status.busy": "2021-11-19T09:18:57.231755Z",
     "iopub.status.idle": "2021-11-19T09:18:57.242435Z",
     "shell.execute_reply": "2021-11-19T09:18:57.241764Z",
     "shell.execute_reply.started": "2021-11-19T09:18:57.232143Z"
    }
   },
   "outputs": [],
   "source": [
    "\"\"\"\n",
    "I used two callbacks one is `early stopping` for avoiding overfitting training data\n",
    "and other `ReduceLROnPlateau` for learning rate.\n",
    "\"\"\"\n",
    "\n",
    "early_stopping = EarlyStopping(\n",
    "    monitor='val_accuracy',\n",
    "    min_delta=0.00005,\n",
    "    patience=11,\n",
    "    verbose=1,\n",
    "    restore_best_weights=True,\n",
    ")\n",
    "\n",
    "lr_scheduler = ReduceLROnPlateau(\n",
    "    monitor='val_accuracy',\n",
    "    factor=0.5,\n",
    "    patience=7,\n",
    "    min_lr=1e-7,\n",
    "    verbose=1,\n",
    ")\n",
    "\n",
    "logdir = './logs'\n",
    "tensorboard_callback = tf.keras.callbacks.TensorBoard(log_dir=logdir)\n",
    "\n",
    "callbacks = [\n",
    "#     early_stopping,\n",
    "    lr_scheduler,\n",
    "    tensorboard_callback\n",
    "]"
   ]
  },
  {
   "cell_type": "code",
   "execution_count": null,
   "metadata": {
    "execution": {
     "iopub.execute_input": "2021-11-19T09:18:57.244322Z",
     "iopub.status.busy": "2021-11-19T09:18:57.243803Z",
     "iopub.status.idle": "2021-11-19T09:18:57.312068Z",
     "shell.execute_reply": "2021-11-19T09:18:57.311438Z",
     "shell.execute_reply.started": "2021-11-19T09:18:57.244287Z"
    }
   },
   "outputs": [],
   "source": [
    "# As the data in hand is less as compared to the task so ImageDataGenerator is good to go.\n",
    "train_datagen = ImageDataGenerator(\n",
    "    rotation_range=15,\n",
    "    width_shift_range=0.15,\n",
    "    height_shift_range=0.15,\n",
    "    shear_range=0.15,\n",
    "    zoom_range=0.15,\n",
    "    horizontal_flip=True,\n",
    ")\n",
    "train_datagen.fit(X_train)"
   ]
  },
  {
   "cell_type": "code",
   "execution_count": null,
   "metadata": {
    "execution": {
     "iopub.execute_input": "2021-11-19T09:18:57.313981Z",
     "iopub.status.busy": "2021-11-19T09:18:57.313694Z",
     "iopub.status.idle": "2021-11-19T10:30:13.095928Z",
     "shell.execute_reply": "2021-11-19T10:30:13.094735Z",
     "shell.execute_reply.started": "2021-11-19T09:18:57.313949Z"
    }
   },
   "outputs": [],
   "source": [
    "batch_size = 32 #batch size of 32 performs the best.\n",
    "epochs = 700\n",
    "optims = [\n",
    "    optimizers.Nadam(learning_rate=0.001, beta_1=0.9, beta_2=0.999, epsilon=1e-07, name='Nadam'),\n",
    "    optimizers.Adam(0.001),\n",
    "]\n",
    "\n",
    "# I tried both `Nadam` and `Adam`, the difference in results is not different but I finally went with Nadam as it is more popular.\n",
    "model = build_net(optims[1]) \n",
    "history = model.fit_generator(\n",
    "    train_datagen.flow(X_train, y_train, batch_size=batch_size),\n",
    "    validation_data=(X_valid, y_valid),\n",
    "    steps_per_epoch=len(X_train) / batch_size,\n",
    "    epochs=epochs,\n",
    "    callbacks=callbacks,\n",
    "    use_multiprocessing=True\n",
    ")"
   ]
  },
  {
   "cell_type": "code",
   "execution_count": null,
   "metadata": {
    "execution": {
     "iopub.execute_input": "2021-11-19T10:30:13.099983Z",
     "iopub.status.busy": "2021-11-19T10:30:13.099684Z",
     "iopub.status.idle": "2021-11-19T10:31:30.128012Z",
     "shell.execute_reply": "2021-11-19T10:31:30.12684Z",
     "shell.execute_reply.started": "2021-11-19T10:30:13.099939Z"
    }
   },
   "outputs": [],
   "source": [
    "# %tensorboard --logdir logs\n",
    "\n",
    "# !tensorboard --logdir logs --host localhost --port 8080\n",
    "\n",
    "# !tensorboard --logdir logs --name \"moodify\""
   ]
  },
  {
   "cell_type": "code",
   "execution_count": null,
   "metadata": {
    "execution": {
     "iopub.execute_input": "2021-11-19T10:31:30.130965Z",
     "iopub.status.busy": "2021-11-19T10:31:30.130655Z"
    }
   },
   "outputs": [],
   "source": [
    "model_yaml = model.to_yaml()\n",
    "with open(\"model.yaml\", \"w\") as yaml_file:\n",
    "    yaml_file.write(model_yaml)\n",
    "    \n",
    "model.save(\"model.h5\")"
   ]
  },
  {
   "cell_type": "code",
   "execution_count": null,
   "metadata": {},
   "outputs": [],
   "source": [
    "model = tf.keras.models.load_model('/kaggle/input/kkkkkkk/model.h5')"
   ]
  },
  {
   "cell_type": "code",
   "execution_count": null,
   "metadata": {},
   "outputs": [],
   "source": [
    "sns.set()\n",
    "fig = pyplot.figure(0, (12, 4))\n",
    "\n",
    "ax = pyplot.subplot(1, 2, 1)\n",
    "sns.lineplot(history.epoch, history.history['accuracy'], label='train')\n",
    "sns.lineplot(history.epoch, history.history['val_accuracy'], label='valid')\n",
    "pyplot.title('Accuracy')\n",
    "pyplot.tight_layout()\n",
    "\n",
    "ax = pyplot.subplot(1, 2, 2)\n",
    "sns.lineplot(history.epoch, history.history['loss'], label='train')\n",
    "sns.lineplot(history.epoch, history.history['val_loss'], label='valid')\n",
    "pyplot.title('Loss')\n",
    "pyplot.tight_layout()\n",
    "\n",
    "pyplot.savefig('epoch_history_dcnn.png')\n",
    "pyplot.show()"
   ]
  },
  {
   "cell_type": "markdown",
   "metadata": {},
   "source": [
    "    The epochs history shows that accuracy gradually increases and achieved +83% accuracy on both training and validation set, but at the end the model starts overfitting training data."
   ]
  },
  {
   "cell_type": "code",
   "execution_count": null,
   "metadata": {},
   "outputs": [],
   "source": [
    "df_accu = pd.DataFrame({'train': history.history['accuracy'], 'valid': history.history['val_accuracy']})\n",
    "df_loss = pd.DataFrame({'train': history.history['loss'], 'valid': history.history['val_loss']})\n",
    "\n",
    "fig = pyplot.figure(0, (14, 4))\n",
    "ax = pyplot.subplot(1, 2, 1)\n",
    "sns.violinplot(x=\"variable\", y=\"value\", data=pd.melt(df_accu), showfliers=False)\n",
    "pyplot.title('Accuracy')\n",
    "pyplot.tight_layout()\n",
    "\n",
    "ax = pyplot.subplot(1, 2, 2)\n",
    "sns.violinplot(x=\"variable\", y=\"value\", data=pd.melt(df_loss), showfliers=False)\n",
    "pyplot.title('Loss')\n",
    "pyplot.tight_layout()\n",
    "\n",
    "pyplot.savefig('performance_dist.png')\n",
    "pyplot.show()"
   ]
  },
  {
   "cell_type": "code",
   "execution_count": null,
   "metadata": {},
   "outputs": [],
   "source": [
    "np.argmax(model.predict(X_valid), axis=-1)"
   ]
  },
  {
   "cell_type": "code",
   "execution_count": null,
   "metadata": {},
   "outputs": [],
   "source": [
    "yhat_valid = np.argmax(model.predict(X_valid), axis=-1)\n",
    "scikitplot.metrics.plot_confusion_matrix(np.argmax(y_valid, axis=1), yhat_valid, figsize=(7,7))\n",
    "pyplot.savefig(\"confusion_matrix_dcnn.png\")\n",
    "\n",
    "print(f'total wrong validation predictions: {np.sum(np.argmax(y_valid, axis=1) != yhat_valid)}\\n\\n')\n",
    "print(classification_report(np.argmax(y_valid, axis=1), yhat_valid))"
   ]
  },
  {
   "cell_type": "markdown",
   "metadata": {},
   "source": [
    "The confusion matrix clearly shows that our model is doing good job on the class `happy` but it's performance is low on other two classes. One of the reason for this could be the fact that these two classes have less data. But when I looked at the images I found some images from these two classes are even hard for a human to tell whether the person is sad or neutral. Facial expression depends on individual as well. Some person's neutral face looks like sad."
   ]
  },
  {
   "cell_type": "code",
   "execution_count": null,
   "metadata": {},
   "outputs": [],
   "source": [
    "# mapper = {\n",
    "#     0: \"happy\",\n",
    "#     1: \"sad\",\n",
    "#     2: \"neutral\",\n",
    "# }\n",
    "mapper = {0:'anger', 1:'disgust', 2:'fear', 3:'happiness', 4: 'sadness', 5: 'surprise', 6: 'neutral'}"
   ]
  },
  {
   "cell_type": "code",
   "execution_count": null,
   "metadata": {},
   "outputs": [],
   "source": [
    "np.random.seed(2)\n",
    "random_sad_imgs = np.random.choice(np.where(y_valid[:, 4]==1)[0], size=9)\n",
    "random_neutral_imgs = np.random.choice(np.where(y_valid[:, 6]==1)[0], size=9)\n",
    "\n",
    "fig = pyplot.figure(1, (18, 4))\n",
    "\n",
    "for i, (sadidx, neuidx) in enumerate(zip(random_sad_imgs, random_neutral_imgs)):\n",
    "        ax = pyplot.subplot(2, 9, i+1)\n",
    "        sample_img = X_valid[sadidx,:,:,0]\n",
    "        ax.imshow(sample_img, cmap='gray')\n",
    "        ax.set_xticks([])\n",
    "        ax.set_yticks([])\n",
    "        ax.set_title(f\"true:sad, pred:{mapper[model.predict_classes(sample_img.reshape(1,48,48,1))[0]]}\")\n",
    "\n",
    "        ax = pyplot.subplot(2, 9, i+10)\n",
    "        sample_img = X_valid[neuidx,:,:,0]\n",
    "        ax.imshow(sample_img, cmap='gray')\n",
    "        ax.set_xticks([])\n",
    "        ax.set_yticks([])\n",
    "        ax.set_title(f\"t:neut, p:{mapper[model.predict_classes(sample_img.reshape(1,48,48,1))[0]]}\")\n",
    "\n",
    "        pyplot.tight_layout()"
   ]
  },
  {
   "cell_type": "code",
   "execution_count": null,
   "metadata": {},
   "outputs": [],
   "source": [
    "import pickle\n",
    "with open('./epoch', 'wb') as file_pi:\n",
    "    pickle.dump(history.epoch, file_pi)\n",
    "with open('./param', 'wb') as file_pi:\n",
    "    pickle.dump(history.params, file_pi)\n",
    "with open('./hist', 'wb') as file_pi:\n",
    "    pickle.dump(history.history, file_pi)"
   ]
  },
  {
   "cell_type": "code",
   "execution_count": null,
   "metadata": {},
   "outputs": [],
   "source": [
    "import shutil\n",
    "shutil.make_archive('./logs', 'zip', './logs')"
   ]
  },
  {
   "cell_type": "markdown",
   "metadata": {},
   "source": [
    "See in the first row 7th image looks more like neutral rather than sad and our model even predicted it neutral. Whereas the last image in second row is very much sad."
   ]
  }
 ],
 "metadata": {
  "kernelspec": {
   "display_name": "Python 3 (ipykernel)",
   "language": "python",
   "name": "python3"
  },
  "language_info": {
   "codemirror_mode": {
    "name": "ipython",
    "version": 3
   },
   "file_extension": ".py",
   "mimetype": "text/x-python",
   "name": "python",
   "nbconvert_exporter": "python",
   "pygments_lexer": "ipython3",
   "version": "3.9.7"
  }
 },
 "nbformat": 4,
 "nbformat_minor": 4
}
