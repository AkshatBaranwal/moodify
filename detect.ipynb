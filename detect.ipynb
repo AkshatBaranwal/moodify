{
 "cells": [
  {
   "cell_type": "code",
   "execution_count": 4,
   "metadata": {},
   "outputs": [],
   "source": [
    "import pickle\n",
    "import numpy as np\n",
    "import tensorflow as tf"
   ]
  },
  {
   "cell_type": "code",
   "execution_count": 5,
   "metadata": {},
   "outputs": [
    {
     "name": "stderr",
     "output_type": "stream",
     "text": [
      "2021-11-05 13:16:57.862469: I tensorflow/core/platform/cpu_feature_guard.cc:142] This TensorFlow binary is optimized with oneAPI Deep Neural Network Library (oneDNN) to use the following CPU instructions in performance-critical operations:  AVX2 FMA\n",
      "To enable them in other operations, rebuild TensorFlow with the appropriate compiler flags.\n",
      "2021-11-05 13:16:57.863503: I tensorflow/core/common_runtime/process_util.cc:146] Creating new thread pool with default inter op setting: 2. Tune using inter_op_parallelism_threads for best performance.\n"
     ]
    }
   ],
   "source": [
    "model = tf.keras.models.load_model('model/model.h5')\n",
    "\n",
    "with open('model/history', \"rb\") as file:\n",
    "    h = pickle.load(file)\n",
    "with open('model/parameters', \"rb\") as file:\n",
    "    p = pickle.load(file)\n",
    "with open('model/epochs', \"rb\") as file:\n",
    "    e = pickle.load(file)\n",
    "\n",
    "class History_trained_model(object):\n",
    "    def __init__(self, history, epoch, params):\n",
    "        self.history = history\n",
    "        self.epoch = epoch\n",
    "        self.params = params\n",
    "\n",
    "history = History_trained_model(h, e, p)"
   ]
  },
  {
   "cell_type": "code",
   "execution_count": 6,
   "metadata": {},
   "outputs": [],
   "source": [
    "mapper = {0:'anger', 1:'disgust', 2:'fear', 3:'happiness', 4: 'sadness', 5: 'surprise', 6: 'neutral'}"
   ]
  },
  {
   "cell_type": "code",
   "execution_count": 11,
   "metadata": {},
   "outputs": [
    {
     "name": "stdout",
     "output_type": "stream",
     "text": [
      "[3.7769140e-03 2.4535675e-06 8.9705512e-03 7.9292869e-03 3.0324223e-02\n",
      " 4.3665408e-04 9.4855994e-01]\n",
      "[2.6376396e-03 2.2677323e-06 4.3353718e-03 1.1639648e-02 1.0792912e-02\n",
      " 3.7064121e-04 9.7022152e-01]\n",
      "[1.6039816e-03 5.7427360e-07 3.7502223e-03 5.1358892e-03 7.5772288e-03\n",
      " 3.3895203e-04 9.8159319e-01]\n",
      "[4.1569332e-03 2.2897084e-06 7.2736777e-03 1.1556098e-02 1.2852513e-02\n",
      " 8.5219642e-04 9.6330631e-01]\n",
      "[2.0562694e-03 6.0619209e-07 4.7387565e-03 6.3805897e-03 7.9784878e-03\n",
      " 5.7578721e-04 9.7826946e-01]\n",
      "[7.7791852e-03 7.8456987e-06 1.5478490e-02 1.7122051e-02 5.8741376e-02\n",
      " 4.8471478e-04 9.0038633e-01]\n",
      "[2.4351741e-03 2.5990203e-06 3.6013676e-03 1.6759163e-02 1.4019100e-02\n",
      " 2.8762745e-04 9.6289498e-01]\n",
      "[3.7216689e-03 2.3575276e-06 5.0488506e-03 6.3792658e-03 1.6723992e-02\n",
      " 2.2260762e-04 9.6790129e-01]\n",
      "[3.7994974e-03 6.3789512e-06 8.4448652e-03 8.3736228e-03 2.5330702e-02\n",
      " 4.1281834e-04 9.5363212e-01]\n",
      "[3.6126436e-03 1.2413282e-05 3.8716393e-03 3.1939366e-01 1.5696291e-02\n",
      " 5.4459466e-04 6.5686876e-01]\n",
      "[2.3443019e-03 3.1211675e-06 2.1578842e-03 2.3460656e-01 1.1687058e-02\n",
      " 1.4004287e-04 7.4906105e-01]\n",
      "[1.8155089e-04 2.5453261e-07 5.2056741e-04 6.3838702e-01 1.4441835e-03\n",
      " 2.8896343e-04 3.5917747e-01]\n",
      "[1.4267765e-03 2.4676290e-06 1.5880015e-03 6.0364401e-01 7.4219247e-03\n",
      " 2.2528537e-04 3.8569143e-01]\n",
      "[9.3571848e-04 1.2436166e-06 9.8679890e-04 4.4268408e-01 4.6178978e-03\n",
      " 2.3632070e-04 5.5053794e-01]\n",
      "[7.0032239e-04 9.0763416e-07 7.9341792e-04 6.9993687e-01 4.3954435e-03\n",
      " 1.7958770e-04 2.9399347e-01]\n",
      "[6.8643980e-04 2.3103412e-06 1.1554875e-03 5.9594554e-01 3.6692331e-03\n",
      " 2.9131124e-04 3.9824957e-01]\n",
      "[1.4601887e-03 4.2078059e-06 1.3666759e-03 7.2200632e-01 6.1955648e-03\n",
      " 3.3809672e-04 2.6862895e-01]\n",
      "[1.5603483e-03 1.1905581e-06 2.9407267e-03 2.0927833e-01 8.8640265e-03\n",
      " 4.2538927e-04 7.7692997e-01]\n",
      "[7.7978446e-04 1.8525532e-06 1.0307684e-03 5.0314540e-01 3.7176788e-03\n",
      " 3.8681141e-04 4.9093774e-01]\n",
      "[1.2604476e-04 9.8379914e-08 1.7433152e-04 9.8324734e-01 2.3361019e-04\n",
      " 1.0680476e-03 1.5150463e-02]\n",
      "[2.64946459e-04 1.09753266e-07 3.32670053e-04 9.63168383e-01\n",
      " 9.32660885e-04 6.57657685e-04 3.46435755e-02]\n",
      "[2.3409874e-04 4.6512579e-07 2.5494414e-04 9.8872900e-01 2.8785411e-04\n",
      " 3.0870035e-03 7.4067209e-03]\n",
      "[2.1866788e-04 6.8433778e-08 2.7782147e-04 9.4238406e-01 2.1565356e-04\n",
      " 2.8363366e-03 5.4067373e-02]\n",
      "[1.2059876e-02 2.0175201e-05 1.0979550e-02 3.3499488e-01 2.3828764e-02\n",
      " 2.2663662e-02 5.9545302e-01]\n",
      "[4.4350284e-03 1.1704288e-05 7.9569340e-02 1.1403135e-01 2.2333114e-01\n",
      " 2.9806776e-02 5.4881471e-01]\n",
      "[8.4703992e-04 1.7129305e-05 4.1994787e-04 9.7419679e-01 2.4198827e-03\n",
      " 1.7421741e-04 2.1925019e-02]\n",
      "[6.3184809e-05 1.5390295e-07 3.5435965e-05 9.9794060e-01 8.6228421e-05\n",
      " 6.8861933e-05 1.8055165e-03]\n",
      "[3.4691984e-05 2.5645861e-08 9.6470485e-06 9.9813074e-01 2.4524827e-05\n",
      " 2.4608091e-05 1.7757893e-03]\n",
      "[9.6032973e-06 6.0068821e-09 6.2860368e-06 9.9807429e-01 1.7126113e-05\n",
      " 1.2505653e-05 1.8800838e-03]\n",
      "[3.35559234e-05 1.06351745e-08 1.56339847e-05 9.96676683e-01\n",
      " 5.02751645e-05 2.34532836e-05 3.20045277e-03]\n",
      "[9.8115997e-06 2.5985867e-09 6.0826806e-06 9.9750924e-01 1.8512892e-05\n",
      " 9.0295989e-06 2.4472654e-03]\n",
      "[8.7321037e-05 1.8671341e-07 4.3384563e-05 9.7810042e-01 4.8315118e-04\n",
      " 2.3625735e-05 2.1261796e-02]\n"
     ]
    }
   ],
   "source": [
    "import cv2\n",
    "\n",
    "# Load the cascade\n",
    "face_cascade = cv2.CascadeClassifier(\"haarcascade_frontalface_default.xml\")\n",
    "\n",
    "# To capture video from webcam.\n",
    "cap = cv2.VideoCapture(0)\n",
    "# To use a video file as input\n",
    "# cap = cv2.VideoCapture('filename.mp4')\n",
    "\n",
    "while True:\n",
    "    # Read the frame\n",
    "    _, img = cap.read()\n",
    "\n",
    "    # Convert to grayscale\n",
    "    gray = cv2.cvtColor(img, cv2.COLOR_BGR2GRAY)\n",
    "\n",
    "    # Detect the faces\n",
    "    faces = face_cascade.detectMultiScale(gray, 1.1, 4)\n",
    "\n",
    "    for (x, y, w, h) in faces:\n",
    "        face2 = gray[y : y + h, x : x + w]\n",
    "        face2 = cv2.resize(face2, (48, 48))/255\n",
    "        cv2.rectangle(img, (x, y), (x + w, y + h), (255, 0, 0), 2)\n",
    "        cv2.putText(\n",
    "            img,\n",
    "            mapper[np.argmax(model.predict(face2.reshape(1, 48, 48, 1))[0], axis=-1)],\n",
    "            (x, y - 10),\n",
    "            cv2.FONT_HERSHEY_SIMPLEX,\n",
    "            0.5,\n",
    "            (36, 255, 12),\n",
    "            2,\n",
    "        )\n",
    "        print(model.predict(face2.reshape(1, 48, 48, 1))[0])\n",
    "\n",
    "    cv2.imshow(\"img\", img)\n",
    "\n",
    "    # Stop if escape key is pressed\n",
    "    k = cv2.waitKey(30) & 0xFF\n",
    "    if k == 27:\n",
    "        break\n",
    "\n",
    "# Release the VideoCapture object\n",
    "cap.release()\n",
    "cv2.destroyAllWindows()\n"
   ]
  },
  {
   "cell_type": "code",
   "execution_count": null,
   "metadata": {},
   "outputs": [],
   "source": []
  },
  {
   "cell_type": "code",
   "execution_count": null,
   "metadata": {},
   "outputs": [],
   "source": []
  }
 ],
 "metadata": {
  "interpreter": {
   "hash": "e7370f93d1d0cde622a1f8e1c04877d8463912d04d973331ad4851f04de6915a"
  },
  "kernelspec": {
   "display_name": "Python 3.9.7 64-bit",
   "name": "python3"
  },
  "language_info": {
   "codemirror_mode": {
    "name": "ipython",
    "version": 3
   },
   "file_extension": ".py",
   "mimetype": "text/x-python",
   "name": "python",
   "nbconvert_exporter": "python",
   "pygments_lexer": "ipython3",
   "version": "3.9.7"
  },
  "orig_nbformat": 4
 },
 "nbformat": 4,
 "nbformat_minor": 2
}
